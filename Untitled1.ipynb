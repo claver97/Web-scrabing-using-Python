{
 "cells": [
  {
   "cell_type": "code",
   "execution_count": 1,
   "metadata": {},
   "outputs": [
    {
     "ename": "ModuleNotFoundError",
     "evalue": "No module named 'Tkinter'",
     "output_type": "error",
     "traceback": [
      "\u001b[1;31m---------------------------------------------------------------------------\u001b[0m",
      "\u001b[1;31mModuleNotFoundError\u001b[0m                       Traceback (most recent call last)",
      "\u001b[1;32m<ipython-input-1-32876a4dd7e5>\u001b[0m in \u001b[0;36m<module>\u001b[1;34m\u001b[0m\n\u001b[0;32m      6\u001b[0m \u001b[1;32mimport\u001b[0m \u001b[0msubprocess\u001b[0m\u001b[1;33m\u001b[0m\u001b[1;33m\u001b[0m\u001b[0m\n\u001b[0;32m      7\u001b[0m \u001b[1;32mimport\u001b[0m \u001b[0mos\u001b[0m\u001b[1;33m\u001b[0m\u001b[1;33m\u001b[0m\u001b[0m\n\u001b[1;32m----> 8\u001b[1;33m \u001b[1;32mfrom\u001b[0m \u001b[0mTkinter\u001b[0m \u001b[1;32mimport\u001b[0m \u001b[0mTk\u001b[0m\u001b[1;33m\u001b[0m\u001b[1;33m\u001b[0m\u001b[0m\n\u001b[0m\u001b[0;32m      9\u001b[0m \u001b[1;32mfrom\u001b[0m \u001b[0mtkFileDialog\u001b[0m \u001b[1;32mimport\u001b[0m \u001b[0maskopenfilename\u001b[0m\u001b[1;33m\u001b[0m\u001b[1;33m\u001b[0m\u001b[0m\n\u001b[0;32m     10\u001b[0m \u001b[1;33m\u001b[0m\u001b[0m\n",
      "\u001b[1;31mModuleNotFoundError\u001b[0m: No module named 'Tkinter'"
     ]
    }
   ],
   "source": [
    "# Script adapted from CloudCray\n",
    "# Original Source: https://gist.github.com/CloudCray/994dd361dece0463f64a\n",
    "# 2016--06-29\n",
    "# This will create both an HTML and a PDF file\n",
    "\n",
    "import subprocess\n",
    "import os\n",
    "from Tkinter import Tk\n",
    "from tkFileDialog import askopenfilename\n",
    "\n",
    "WKHTMLTOPDF_PATH = \"C:/Program Files/wkhtmltopdf/bin/wkhtmltopdf\"  # or wherever you keep it\n",
    "\n",
    "def export_to_html(filename):\n",
    "    cmd = 'ipython nbconvert --to html \"{0}\"'\n",
    "    subprocess.call(cmd.format(filename), shell=True)\n",
    "    return filename.replace(\".ipynb\", \".html\")\n",
    "\n",
    "\n",
    "def convert_to_pdf(filename):\n",
    "    cmd = '\"{0}\" \"{1}\" \"{2}\"'.format(WKHTMLTOPDF_PATH, filename, filename.replace(\".html\", \".pdf\"))\n",
    "    subprocess.call(cmd, shell=True)\n",
    "    return filename.replace(\".html\", \".pdf\")\n",
    "\n",
    "\n",
    "def export_to_pdf(filename):\n",
    "    fn = export_to_html(filename)\n",
    "    return convert_to_pdf(fn)\n",
    "\n",
    "def main():\n",
    "    print(\"Export IPython notebook to PDF\")\n",
    "    print(\"    Please select a notebook:\")\n",
    "\n",
    "    Tk().withdraw() # Starts in folder from which it is started, keep the root window from appearing \n",
    "    x = askopenfilename() # show an \"Open\" dialog box and return the path to the selected file\n",
    "    x = str(x.split(\"/\")[-1])\n",
    "\n",
    "    print(x)\n",
    "\n",
    "    if not x:\n",
    "        print(\"No notebook selected.\")\n",
    "        return 0\n",
    "    else:\n",
    "        fn = export_to_pdf(x)\n",
    "        print(\"File exported as:\\n\\t{0}\".format(fn))\n",
    "        return 1\n",
    "\n",
    "main()"
   ]
  },
  {
   "cell_type": "code",
   "execution_count": null,
   "metadata": {},
   "outputs": [],
   "source": []
  }
 ],
 "metadata": {
  "kernelspec": {
   "display_name": "Python 3",
   "language": "python",
   "name": "python3"
  },
  "language_info": {
   "codemirror_mode": {
    "name": "ipython",
    "version": 3
   },
   "file_extension": ".py",
   "mimetype": "text/x-python",
   "name": "python",
   "nbconvert_exporter": "python",
   "pygments_lexer": "ipython3",
   "version": "3.8.3"
  }
 },
 "nbformat": 4,
 "nbformat_minor": 4
}
